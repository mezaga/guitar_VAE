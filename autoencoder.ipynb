{
 "cells": [
  {
   "cell_type": "code",
   "execution_count": null,
   "metadata": {},
   "outputs": [],
   "source": [
    "####AUTOENCODER\n",
    "optimizer = tf.keras.optimizers.Adam(0.0001)\n",
    "latent_dim = 128\n",
    "original_dim = (sr16k, 1, 1)\n",
    "encoder_inputs = keras.Input(original_dim)                                                   # bat, samps, ?, ch\n",
    "x = layers.Conv2D(64, (33,1), activation=\"relu\", padding=\"same\",strides=(4,1))(encoder_inputs) # [69, 48000, 1, 1] -> [69, 12000, 1, 64]\n",
    "x = layers.Conv2D(128,(33,1), activation=\"relu\", padding=\"same\",strides=(4,1))(x)\n",
    "x = layers.Conv2D(256,(33,1), activation=\"relu\", padding=\"same\",strides=(4,1))(x)\n",
    "x = layers.Conv2D(512,(33,1), activation=\"relu\", padding=\"same\",strides=(3,1))(x)\n",
    "encoder_flat = layers.Flatten()(x)\n",
    "latent = layers.Dense(latent_dim, activation='relu')(encoder_flat)\n",
    "\n",
    "encoder = keras.Model(encoder_inputs, latent, name=\"encoder\")\n",
    "encoder.summary()"
   ]
  },
  {
   "cell_type": "code",
   "execution_count": null,
   "metadata": {},
   "outputs": [],
   "source": [
    "latent_inputs = keras.Input(latent_dim)\n",
    "x = layers.Dense(250 * 1 * 512, activation=\"relu\")(latent_inputs)\n",
    "x = layers.Reshape((250, 1, 512))(x)\n",
    "x = layers.Conv2DTranspose(128,(33,1), activation=\"relu\",padding= \"same\",strides= (4,1))(x)\n",
    "x = layers.Conv2DTranspose(64,(33,1), activation=\"relu\",padding= \"same\",strides= (4,1))(x)\n",
    "decoder_outputs = layers.Conv2DTranspose(1, (33, 1), activation=\"tanh\", padding=\"same\", strides = (4,1))(x)\n",
    "decoder = keras.Model(latent_inputs, decoder_outputs, name=\"AE\")\n",
    "\n",
    "decoder.summary()"
   ]
  },
  {
   "cell_type": "code",
   "execution_count": null,
   "metadata": {},
   "outputs": [],
   "source": [
    "salida = decoder(encoder(encoder_inputs)) # note, outputs available from encoder model are z_mean, z_log_sigma and z. We take z by specifying [2]\n",
    "# Instantiate a VAE model\n",
    "ae = Model(inputs=encoder_inputs, outputs= salida, name='AE-Model')\n",
    "ae.compile(optimizer= optimizer,loss = 'mean_squared_error')\n"
   ]
  },
  {
   "cell_type": "code",
   "execution_count": null,
   "metadata": {},
   "outputs": [],
   "source": [
    "tr_logs = ae.fit(Xw,Xw, shuffle = True, batch_size= 5, epochs= 100)"
   ]
  },
  {
   "cell_type": "code",
   "execution_count": null,
   "metadata": {},
   "outputs": [],
   "source": [
    "#######LOSS\n",
    "plt.plot(tr_logs.history['loss'])\n",
    "#plt.plot(tr_logs.history['val_loss'])\n",
    "plt.title('model loss')\n",
    "plt.ylabel('loss')\n",
    "plt.xlabel('epoch')\n",
    "plt.legend(['train'], loc='upper right')\n",
    "plt.show()"
   ]
  },
  {
   "cell_type": "code",
   "execution_count": null,
   "metadata": {},
   "outputs": [],
   "source": [
    "ae_latent = encoder.predict(Xw)\n"
   ]
  },
  {
   "cell_type": "code",
   "execution_count": null,
   "metadata": {},
   "outputs": [],
   "source": [
    "###visualización PCA\n",
    "fig = plt.figure(1, figsize=(12, 6))\n",
    "ax = Axes3D(fig)#,elev=-0, azim= 0)\n",
    "#X_reduced = PCA(n_components=3).fit_transform(X)\n",
    "\n",
    "# create the PCA instance with the number of components to be computed \n",
    "pca = PCA(n_components= 3)\n",
    "\n",
    "# \"transform\" the data that you want to reduce to \"two components\"\n",
    "X_PCA = pca.fit_transform(ae_latent)\n",
    "\n",
    "ax.scatter3D(X_PCA[:68, 0], X_PCA[:68, 1],X_PCA[:68, 2], c='red', label='BluesDriver')\n",
    "ax.scatter3D(X_PCA[69:137, 0], X_PCA[69:137, 1],X_PCA[69:137, 2], c='green', label='Chorus')\n",
    "ax.scatter3D(X_PCA[138:206, 0], X_PCA[138:206, 1],X_PCA[138:206, 2], c='blue', label='Clean')\n",
    "ax.scatter3D(X_PCA[207:275, 0], X_PCA[207:275, 1],X_PCA[207:275, 2], c='red', label='Digital Delay')\n",
    "ax.scatter3D(X_PCA[276:344, 0], X_PCA[276:344, 1],X_PCA[276:344, 2], c='yellow', label= 'Flanger')\n",
    "ax.scatter3D(X_PCA[345:413, 0], X_PCA[345:413, 1],X_PCA[345:413, 2], c='black', label='Phaser')\n",
    "ax.scatter3D(X_PCA[414:482, 0], X_PCA[414:482, 1],X_PCA[414:482, 2], c='white', label='RAT')\n",
    "ax.scatter3D(X_PCA[483:551, 0], X_PCA[483:551, 1],X_PCA[483:551, 2], c='orange', label='Sweep Echo')\n",
    "ax.scatter3D(X_PCA[552:620, 0], X_PCA[552:620, 1],X_PCA[552:620, 2], c='pink', label='TapeEcho')\n",
    "ax.scatter3D(X_PCA[621:689, 0], X_PCA[621:689, 1],X_PCA[621:689, 2], c='brown', label='TubeScreamer')\n",
    "\n",
    "plt.legend()\n",
    "plt.title('Analisis de componentes Principales \"2D')\n",
    "plt.xlabel('PCA 1')\n",
    "plt.ylabel('PCA 2')\n",
    "plt.show()"
   ]
  },
  {
   "cell_type": "code",
   "execution_count": null,
   "metadata": {},
   "outputs": [],
   "source": [
    "fig = plt.figure(1, figsize=(12, 6))\n",
    "# create the PCA instance with the number of components to be computed \n",
    "pca = PCA(n_components= 2)\n",
    "\n",
    "# \"transform\" the data that you want to reduce to \"two components\"\n",
    "X_PCA = pca.fit_transform(ae_latent)\n",
    "\n",
    "plt.scatter(X_PCA[:68, 0], X_PCA[:68, 1], c='red', label='BluesDriver')\n",
    "plt.scatter(X_PCA[69:137, 0], X_PCA[69:137, 1], c='green', label='Chorus')\n",
    "plt.scatter(X_PCA[138:206, 0], X_PCA[138:206, 1], c='blue', label='Clean')\n",
    "plt.scatter(X_PCA[207:275, 0], X_PCA[207:275, 1], c='red', label= 'Digital Delay')\n",
    "plt.scatter(X_PCA[276:344, 0], X_PCA[276:344, 1], c='yellow', label= 'Flanger')\n",
    "plt.scatter(X_PCA[345:413, 0], X_PCA[345:413, 1], c='black', label= 'Phaser')\n",
    "plt.scatter(X_PCA[414:482, 0], X_PCA[414:482, 1], c='white', label= 'RAT')\n",
    "plt.scatter(X_PCA[483:551, 0], X_PCA[483:551, 1], c='orange', label= 'Sweep Echo')\n",
    "plt.scatter(X_PCA[552:620, 0], X_PCA[552:620, 1], c='pink', label= 'TapeEcho')\n",
    "plt.scatter(X_PCA[621:689, 0], X_PCA[621:689, 1], c='brown', label= 'TubeScreamer')\n",
    "\n",
    "plt.legend()\n",
    "plt.title('Analisis de componentes Principales \"2D')\n",
    "plt.xlabel('PCA 1')\n",
    "plt.ylabel('PCA 2')\n",
    "plt.show()"
   ]
  },
  {
   "cell_type": "code",
   "execution_count": null,
   "metadata": {},
   "outputs": [],
   "source": [
    "###visualización PCA 3D #########\n",
    "###visualización PCA 3D #########\n",
    "###visualización PCA 3D #########\n",
    "\n",
    "fig = plt.figure(1, figsize=(12, 6))\n",
    "ax = Axes3D(fig,elev=-0, azim=0)\n",
    "pca = PCA(n_components= 3)\n",
    "X_PCA = pca.fit_transform(ae_latent)\n",
    "\n",
    "ax.scatter3D(X_PCA[:689, 0], X_PCA[:689, 1],X_PCA[:689, 2], c='red', label='BluesDriver')\n",
    "ax.scatter3D(X_PCA[690:1379, 0], X_PCA[690:1379, 1],X_PCA[690:1379, 2], c='green', label='Chorus')\n",
    "ax.scatter3D(X_PCA[1380:2069, 0], X_PCA[1380:2069, 1],X_PCA[1380:2069, 2], c='blue', label='Clean')\n",
    "ax.scatter3D(X_PCA[2070:2759, 0], X_PCA[2070:2759, 1],X_PCA[2070:2759, 2], c='cyan', label='Digital Delay')\n",
    "ax.scatter3D(X_PCA[2760:3449, 0], X_PCA[2760:3449, 1],X_PCA[2760:3449, 2], c='yellow', label='Flanger')\n",
    "ax.scatter3D(X_PCA[3450:4139, 0], X_PCA[3450:4139, 1],X_PCA[3450:4139, 2], c='black', label='Phaser')\n",
    "ax.scatter3D(X_PCA[4140:4829, 0], X_PCA[4140:4829, 1],X_PCA[4140:4829, 2], c='purple', label='RAT')\n",
    "ax.scatter3D(X_PCA[4830:5519, 0], X_PCA[4830:5519, 1],X_PCA[4830:5519, 2], c='orange', label= 'Sweep Echo')\n",
    "ax.scatter3D(X_PCA[5520:6209, 0], X_PCA[5520:6209, 1],X_PCA[5520:6209, 2], c='pink', label='TapeEcho')\n",
    "ax.scatter3D(X_PCA[6210:6899, 0], X_PCA[6210:6899, 1],X_PCA[6210:6899, 2], c='brown', label='TubeScreamer')\n",
    "\n",
    "plt.legend()\n",
    "plt.title('Analisis de componentes Principales \"3D')\n",
    "plt.xlabel('PCA 1')\n",
    "plt.ylabel('PCA 2')\n",
    "#plt.zlabel('PCA 3')\n",
    "\n",
    "plt.show()"
   ]
  },
  {
   "cell_type": "code",
   "execution_count": null,
   "metadata": {},
   "outputs": [],
   "source": [
    "#####PCA 2D ##########\n",
    "#####PCA 2D ##########\n",
    "#####PCA 2D ##########\n",
    "\n",
    "fig = plt.figure(1, figsize=(12, 6))\n",
    "pca = PCA(n_components= 2)\n",
    "X_PCA = pca.fit_transform(ae_latent)\n",
    "\n",
    "plt.scatter(X_PCA[:689, 0], X_PCA[:689, 1], c='red', label= 'BluesDriver')\n",
    "plt.scatter(X_PCA[690:1379, 0], X_PCA[690:1379, 1], c='green', label= 'Chorus')\n",
    "plt.scatter(X_PCA[1380:2069, 0], X_PCA[1380:2069, 1], c='blue', label= 'Clean')\n",
    "plt.scatter(X_PCA[2070:2759, 0], X_PCA[2070:2759, 1], c='cyan', label= 'Digital Delay')\n",
    "plt.scatter(X_PCA[2760:3449, 0], X_PCA[2760:3449, 1], c='yellow', label= 'Flanger')\n",
    "plt.scatter(X_PCA[3450:4139, 0], X_PCA[3450:4139, 1], c='black', label= 'Phaser')\n",
    "plt.scatter(X_PCA[4140:4829, 0], X_PCA[4140:4829, 1], c='purple', label= 'RAT')\n",
    "plt.scatter(X_PCA[4830:5519, 0], X_PCA[4830:5519, 1], c='orange', label= 'Sweep Echo')\n",
    "plt.scatter(X_PCA[5520:6209, 0], X_PCA[5520:6209, 1], c='pink', label= 'TapeEcho')\n",
    "plt.scatter(X_PCA[6210:6899, 0], X_PCA[6210:6899, 1], c='brown', label= 'TubeScreamer')\n",
    "\n",
    "plt.legend()\n",
    "plt.title('Analisis de componentes Principales AUTOENCODER')\n",
    "plt.xlabel('PCA 1')\n",
    "plt.ylabel('PCA 2')\n",
    "plt.show()"
   ]
  }
 ],
 "metadata": {
  "language_info": {
   "name": "python"
  },
  "orig_nbformat": 4
 },
 "nbformat": 4,
 "nbformat_minor": 2
}
